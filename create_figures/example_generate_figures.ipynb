{
 "cells": [
  {
   "cell_type": "markdown",
   "id": "4edbd64a",
   "metadata": {},
   "source": [
    "# Generate Figures Example Workflow\n",
    "This document provides an example workflow of the steps involved in generating figures using the BrainEffeX pipeline.\n",
    "\n",
    "This pipeline takes in the data file that is the output from the effect_size/ pipeline (example of that pipeline can be found at effect_size/effect_size_example.ipynb)\n",
    "\n"
   ]
  },
  {
   "cell_type": "code",
   "execution_count": 10,
   "id": "76aa28e6",
   "metadata": {},
   "outputs": [],
   "source": [
    "# source the generate_figures() function\n",
    "setwd(\"./\")\n",
    "source(\"generate_figures.R\")"
   ]
  },
  {
   "cell_type": "code",
   "execution_count": 7,
   "id": "aa6ee24f",
   "metadata": {},
   "outputs": [],
   "source": [
    "# if you don't have the data downloaded already, uncomment and run the following lines\n",
    "# this might take a couple of minutes to run (took me 1.5 mins)\n",
    "library(osfr)\n",
    "data_path = \"./\"\n",
    "\n",
    "data <- osf_retrieve_file(\"g84tk\") %>%\n",
    "  osf_download(path = data_path)\n"
   ]
  },
  {
   "cell_type": "code",
   "execution_count": 9,
   "id": "3d691629",
   "metadata": {},
   "outputs": [],
   "source": [
    "# set some parameeters for the generate_figures function\n",
    "data_path = \"braineffex_data_09-24-25.RData\"\n",
    "output_dir = \"test_figures/\"\n",
    "\n",
    "# we will geneate the figures for the shiny app here, not figures for the results manuscript\n",
    "# so we set plot_output_style to \"shiny\"\n",
    "plot_output_style = \"shiny\"\n",
    "\n",
    "# we can leave the rest of the parameters as default\n"
   ]
  },
  {
   "cell_type": "code",
   "execution_count": 11,
   "id": "ad38fcea",
   "metadata": {},
   "outputs": [
    {
     "name": "stdout",
     "output_type": "stream",
     "text": [
      "[1] \"Doing plot_combination_style: single | plot_type: simci-spatial | pooling: net | motion: none | grouping var: category | effect size: d\"\n",
      "Warning: grouping_var set to 'none' for single plots\n",
      "[1] \"Doing plot_combination_style: meta | plot_type: simci-spatial | pooling: net | motion: none | grouping var: category | effect size: d\"\n",
      "[1] \"Doing plot_combination_style: single | plot_type: simci-spatial | pooling: net | motion: none | grouping var: category | effect size: r_sq\"\n",
      "Warning: grouping_var set to 'none' for single plots\n",
      "[1] \"Doing plot_combination_style: meta | plot_type: simci-spatial | pooling: net | motion: none | grouping var: category | effect size: r_sq\"\n",
      "[1] \"Doing plot_combination_style: single | plot_type: simci-spatial | pooling: net | motion: regression | grouping var: category | effect size: d\"\n",
      "Warning: grouping_var set to 'none' for single plots\n",
      "[1] \"Doing plot_combination_style: meta | plot_type: simci-spatial | pooling: net | motion: regression | grouping var: category | effect size: d\"\n",
      "[1] \"Doing plot_combination_style: single | plot_type: simci-spatial | pooling: net | motion: regression | grouping var: category | effect size: r_sq\"\n",
      "Warning: grouping_var set to 'none' for single plots\n",
      "[1] \"Doing plot_combination_style: meta | plot_type: simci-spatial | pooling: net | motion: regression | grouping var: category | effect size: r_sq\"\n",
      "[1] \"Doing plot_combination_style: single | plot_type: simci-spatial | pooling: net | motion: threshold | grouping var: category | effect size: d\"\n",
      "Warning: grouping_var set to 'none' for single plots\n",
      "[1] \"Doing plot_combination_style: meta | plot_type: simci-spatial | pooling: net | motion: threshold | grouping var: category | effect size: d\"\n",
      "[1] \"Doing plot_combination_style: single | plot_type: simci-spatial | pooling: net | motion: threshold | grouping var: category | effect size: r_sq\"\n",
      "Warning: grouping_var set to 'none' for single plots\n",
      "[1] \"Doing plot_combination_style: meta | plot_type: simci-spatial | pooling: net | motion: threshold | grouping var: category | effect size: r_sq\"\n",
      "[1] \"Doing plot_combination_style: single | plot_type: simci-spatial | pooling: net | motion: threshold2 | grouping var: category | effect size: d\"\n",
      "Warning: grouping_var set to 'none' for single plots\n",
      "[1] \"Doing plot_combination_style: meta | plot_type: simci-spatial | pooling: net | motion: threshold2 | grouping var: category | effect size: d\"\n",
      "[1] \"Doing plot_combination_style: single | plot_type: simci-spatial | pooling: net | motion: threshold2 | grouping var: category | effect size: r_sq\"\n",
      "Warning: grouping_var set to 'none' for single plots\n",
      "[1] \"Doing plot_combination_style: meta | plot_type: simci-spatial | pooling: net | motion: threshold2 | grouping var: category | effect size: r_sq\"\n",
      "[1] \"Doing plot_combination_style: single | plot_type: simci-spatial | pooling: none | motion: none | grouping var: category | effect size: d\"\n",
      "Warning: grouping_var set to 'none' for single plots\n",
      "[1] \"Doing plot_combination_style: meta | plot_type: simci-spatial | pooling: none | motion: none | grouping var: category | effect size: d\"\n",
      "[1] \"Doing plot_combination_style: single | plot_type: simci-spatial | pooling: none | motion: none | grouping var: category | effect size: r_sq\"\n",
      "Warning: grouping_var set to 'none' for single plots\n",
      "[1] \"Doing plot_combination_style: meta | plot_type: simci-spatial | pooling: none | motion: none | grouping var: category | effect size: r_sq\"\n",
      "[1] \"Doing plot_combination_style: single | plot_type: simci-spatial | pooling: none | motion: regression | grouping var: category | effect size: d\"\n",
      "Warning: grouping_var set to 'none' for single plots\n",
      "[1] \"Doing plot_combination_style: meta | plot_type: simci-spatial | pooling: none | motion: regression | grouping var: category | effect size: d\"\n",
      "[1] \"Doing plot_combination_style: single | plot_type: simci-spatial | pooling: none | motion: regression | grouping var: category | effect size: r_sq\"\n",
      "Warning: grouping_var set to 'none' for single plots\n",
      "[1] \"Doing plot_combination_style: meta | plot_type: simci-spatial | pooling: none | motion: regression | grouping var: category | effect size: r_sq\"\n",
      "[1] \"Doing plot_combination_style: single | plot_type: simci-spatial | pooling: none | motion: threshold | grouping var: category | effect size: d\"\n",
      "Warning: grouping_var set to 'none' for single plots\n",
      "[1] \"Doing plot_combination_style: meta | plot_type: simci-spatial | pooling: none | motion: threshold | grouping var: category | effect size: d\"\n",
      "[1] \"Doing plot_combination_style: single | plot_type: simci-spatial | pooling: none | motion: threshold | grouping var: category | effect size: r_sq\"\n",
      "Warning: grouping_var set to 'none' for single plots\n",
      "[1] \"Doing plot_combination_style: meta | plot_type: simci-spatial | pooling: none | motion: threshold | grouping var: category | effect size: r_sq\"\n",
      "[1] \"Doing plot_combination_style: single | plot_type: simci-spatial | pooling: none | motion: threshold2 | grouping var: category | effect size: d\"\n",
      "Warning: grouping_var set to 'none' for single plots\n",
      "[1] \"Doing plot_combination_style: meta | plot_type: simci-spatial | pooling: none | motion: threshold2 | grouping var: category | effect size: d\"\n",
      "[1] \"Doing plot_combination_style: single | plot_type: simci-spatial | pooling: none | motion: threshold2 | grouping var: category | effect size: r_sq\"\n",
      "Warning: grouping_var set to 'none' for single plots\n",
      "[1] \"Doing plot_combination_style: meta | plot_type: simci-spatial | pooling: none | motion: threshold2 | grouping var: category | effect size: r_sq\"\n"
     ]
    },
    {
     "name": "stderr",
     "output_type": "stream",
     "text": [
      "There were 50 or more warnings (use warnings() to see the first 50)\n"
     ]
    }
   ],
   "source": [
    "# now generate the figures with the generate_figures() function\n",
    "\n",
    "generate_figures(data_path, output_dir, plot_output_style)"
   ]
  },
  {
   "cell_type": "markdown",
   "id": "c0d7a78e",
   "metadata": {},
   "source": [
    "### Now the figures can be found in the output directory"
   ]
  },
  {
   "cell_type": "markdown",
   "id": "307448cb",
   "metadata": {},
   "source": []
  }
 ],
 "metadata": {
  "language_info": {
   "name": "r"
  }
 },
 "nbformat": 4,
 "nbformat_minor": 5
}
